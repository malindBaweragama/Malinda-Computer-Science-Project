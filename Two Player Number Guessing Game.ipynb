{
 "cells": [
  {
   "cell_type": "markdown",
   "id": "8864ea0a",
   "metadata": {},
   "source": [
    "Two Player Guessing Game"
   ]
  },
  {
   "cell_type": "code",
   "execution_count": 1,
   "id": "174b4ee1",
   "metadata": {},
   "outputs": [
    {
     "name": "stdout",
     "output_type": "stream",
     "text": [
      "Welcome to the two-player guessing game!\n",
      "Enter Player 1's name: Malinda\n",
      "Enter Player 2's name: Weragama\n",
      "Malinda, try to guess the number between 0 and 10.\n",
      "Enter your guess: 10\n",
      "Try a smaller number.\n",
      "Enter your guess: 2\n",
      "Try a greater number.\n",
      "Enter your guess: 5\n",
      "Try a smaller number.\n",
      "Enter your guess: 6\n",
      "Try a smaller number.\n",
      "Enter your guess: 4\n",
      "That's right, Malinda! The number was 4. Number of tries: 5\n",
      "\n",
      "Weragama, try to guess the number between 0 and 10.\n",
      "Enter your guess: 8\n",
      "Try a smaller number.\n",
      "Enter your guess: 5\n",
      "Try a smaller number.\n",
      "Enter your guess: 6\n",
      "Try a smaller number.\n",
      "Enter your guess: 4\n",
      "Try a smaller number.\n",
      "Enter your guess: 8\n",
      "Try a smaller number.\n",
      "Enter your guess: 9\n",
      "Try a smaller number.\n",
      "Enter your guess: 2\n",
      "Try a greater number.\n",
      "Enter your guess: 3\n",
      "That's right, Weragama! The number was 3. Number of tries: 8\n",
      "\n",
      "Malinda wins with 5 tries!\n"
     ]
    }
   ],
   "source": [
    "import random\n",
    "\n",
    "def play_game(player_name):\n",
    "    target_number = random.randint(0, 10)\n",
    "    tries = 0\n",
    "\n",
    "    print(f\"{player_name}, try to guess the number between 0 and 10.\")\n",
    "\n",
    "    while True:\n",
    "        guess = int(input(\"Enter your guess: \"))\n",
    "        tries += 1\n",
    "\n",
    "        if guess < target_number:\n",
    "            print(\"Try a greater number.\")\n",
    "        elif guess > target_number:\n",
    "            print(\"Try a smaller number.\")\n",
    "        else:\n",
    "            print(f\"That's right, {player_name}! The number was {target_number}. Number of tries: {tries}\")\n",
    "            return tries\n",
    "\n",
    "def main():\n",
    "    print(\"Welcome to the two-player guessing game!\")\n",
    "\n",
    "    player1_name = input(\"Enter Player 1's name: \")\n",
    "    player2_name = input(\"Enter Player 2's name: \")\n",
    "\n",
    "    player1_tries = play_game(player1_name)\n",
    "    print()\n",
    "\n",
    "    player2_tries = play_game(player2_name)\n",
    "    print()\n",
    "\n",
    "    if player1_tries < player2_tries:\n",
    "        print(f\"{player1_name} wins with {player1_tries} tries!\")\n",
    "    elif player2_tries < player1_tries:\n",
    "        print(f\"{player2_name} wins with {player2_tries} tries!\")\n",
    "    else:\n",
    "        print(\"It's a tie!\")\n",
    "\n",
    "if __name__ == \"__main__\":\n",
    "    main()\n"
   ]
  },
  {
   "cell_type": "code",
   "execution_count": null,
   "id": "d9a0b975",
   "metadata": {},
   "outputs": [],
   "source": []
  }
 ],
 "metadata": {
  "kernelspec": {
   "display_name": "Python 3 (ipykernel)",
   "language": "python",
   "name": "python3"
  },
  "language_info": {
   "codemirror_mode": {
    "name": "ipython",
    "version": 3
   },
   "file_extension": ".py",
   "mimetype": "text/x-python",
   "name": "python",
   "nbconvert_exporter": "python",
   "pygments_lexer": "ipython3",
   "version": "3.11.5"
  }
 },
 "nbformat": 4,
 "nbformat_minor": 5
}
